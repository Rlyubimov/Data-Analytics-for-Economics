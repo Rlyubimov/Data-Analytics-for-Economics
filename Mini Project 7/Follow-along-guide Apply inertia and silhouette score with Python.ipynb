{
 "cells": [
  {
   "cell_type": "markdown",
   "metadata": {
    "id": "NUM1zrU-_lwo"
   },
   "source": [
    "# K-means inertia & silhouette score  \n",
    "\n",
    "Throughout the following exercises, you will learn about the process of using inertia and silhouette score in scikit-learn to help determine a _k_ value for a K-means model on higher-dimensional data that cannot easily be visualized in 2-D or 3-D space. "
   ]
  },
  {
   "cell_type": "markdown",
   "metadata": {
    "id": "SQdySYsavmU1"
   },
   "source": [
    "All the information you need for solving this assignment is in this notebook, and all the code you will be implementing will take place within this notebook. "
   ]
  },
  {
   "cell_type": "markdown",
   "metadata": {
    "id": "vqT5iWhttRY3"
   },
   "source": [
    "Focus items include:\n",
    "\n",
    "*   Import statements\n",
    "*   Scaling the data using `StandardScaler`\n",
    "*   Instantiating the model\n",
    "*   Fitting the model\n",
    "*   KMeans `labels_` attribute\n",
    "*   KMeans `inertia_` attribute\n",
    "*   Using scikit-learn's `silhouette_score` function \n",
    "*   Determining a value for _k_  \n",
    "\n"
   ]
  },
  {
   "cell_type": "markdown",
   "metadata": {
    "id": "EJLq2kxlvuPm"
   },
   "source": [
    "As we move forward, you can find instructions on how to install required libraries as they arise in this notebook. "
   ]
  },
  {
   "cell_type": "markdown",
   "metadata": {
    "id": "_KRDXo0-tV8y"
   },
   "source": [
    "## Import statements\n",
    "\n",
    "Before we begin with the exercises and analyzing the data, we need to import all libraries and extensions required for this programming exercise. Throughout the course, we will be using numpy and pandas for operations, and seaborn for data visualization. \n",
    "\n",
    "Of particular note here, are the `Kmeans`, `silhouette_score`, and `StandardScaler` statements. These are the elements directly related to the K-means modeling process."
   ]
  },
  {
   "cell_type": "code",
   "execution_count": 24,
   "metadata": {
    "id": "UMeP18cIxUtA"
   },
   "outputs": [],
   "source": [
    "# IMPORT STATEMENTS\n",
    "\n",
    "# Standard operational package imports\n",
    "import numpy as np\n",
    "import pandas as pd\n",
    "\n",
    "##################################################\n",
    "# Important imports for modeling and evaluation\n",
    "from sklearn.cluster import KMeans\n",
    "from sklearn.metrics import silhouette_score\n",
    "from sklearn.preprocessing import StandardScaler\n",
    "##################################################\n",
    "\n",
    "\n",
    "# (To create synthetic data)\n",
    "from sklearn.datasets import make_blobs\n",
    "\n",
    "# Visualization package import\n",
    "import seaborn as sns"
   ]
  },
  {
   "cell_type": "markdown",
   "metadata": {
    "id": "fpHhkfp3fMZw"
   },
   "source": [
    "## Create the data\n",
    "\n",
    "In practice, you'd have a dataset of real data, and you'd read in this data and perform EDA, data cleaning, and other manipulations to prepare it for modeling. For simplicity and to help us focus on the modeling itself, we're going to use synthetic data for this demonstration.\n",
    "\n",
    "We'll start by creating a random number generator. This is to help with the process of creating _reproducible_ synthetic data. We'll use it to create clustered data without us knowing how many clusters there are."
   ]
  },
  {
   "cell_type": "code",
   "execution_count": 25,
   "metadata": {
    "id": "Vdmg5ejR06YK"
   },
   "outputs": [],
   "source": [
    "# Create random number generator\n",
    "rng = np.random.default_rng(seed=42)"
   ]
  },
  {
   "cell_type": "markdown",
   "metadata": {
    "id": "WxNhnwq4fzvA"
   },
   "source": [
    "By calling the random number generator and assigning the result to a variable, we can avoid seeing the true number of clusters our data has. This keeps the \"answer\" a secret, and will let us use inertia and silhouette coefficients to determine it."
   ]
  },
  {
   "cell_type": "code",
   "execution_count": 26,
   "metadata": {
    "id": "3LfvGNjYxn6x"
   },
   "outputs": [],
   "source": [
    "# Create synthetic data w/ unknown number of clusters\n",
    "centers = rng.integers(low=3, high=7)\n",
    "X, y = make_blobs(n_samples=1000, n_features=6, centers=centers, random_state=42)"
   ]
  },
  {
   "cell_type": "markdown",
   "metadata": {
    "id": "LMlNwAtmgJhm"
   },
   "source": [
    "The above steps that generated our synthetic data return two things: `X` and `y`. `X` is an array of the values for the synthetic data itself and `y` is an array that contains the cluster assignment for each sample in `X` (represented as an integer).\n",
    "\n",
    "Right now we're concerned with `X`, because it is our mystery data. It's currently an array, but it's usually helpful to view your data as a pandas dataframe. This is often how your data will be organized when modeling real-world data, so we'll convert our data to a pandas df."
   ]
  },
  {
   "cell_type": "code",
   "execution_count": 27,
   "metadata": {
    "colab": {
     "base_uri": "https://localhost:8080/",
     "height": 206
    },
    "executionInfo": {
     "elapsed": 12,
     "status": "ok",
     "timestamp": 1658363130799,
     "user": {
      "displayName": "Matthew Riotto",
      "userId": "15211004813978485634"
     },
     "user_tz": 420
    },
    "id": "Dtr-4KIA7uvy",
    "outputId": "e9b61368-7bfc-41fd-91fe-7483993567ea"
   },
   "outputs": [
    {
     "data": {
      "text/html": [
       "<div>\n",
       "<style scoped>\n",
       "    .dataframe tbody tr th:only-of-type {\n",
       "        vertical-align: middle;\n",
       "    }\n",
       "\n",
       "    .dataframe tbody tr th {\n",
       "        vertical-align: top;\n",
       "    }\n",
       "\n",
       "    .dataframe thead th {\n",
       "        text-align: right;\n",
       "    }\n",
       "</style>\n",
       "<table border=\"1\" class=\"dataframe\">\n",
       "  <thead>\n",
       "    <tr style=\"text-align: right;\">\n",
       "      <th></th>\n",
       "      <th>0</th>\n",
       "      <th>1</th>\n",
       "      <th>2</th>\n",
       "      <th>3</th>\n",
       "      <th>4</th>\n",
       "      <th>5</th>\n",
       "    </tr>\n",
       "  </thead>\n",
       "  <tbody>\n",
       "    <tr>\n",
       "      <th>0</th>\n",
       "      <td>6.597330</td>\n",
       "      <td>-5.250127</td>\n",
       "      <td>-6.682249</td>\n",
       "      <td>-7.361722</td>\n",
       "      <td>-4.038499</td>\n",
       "      <td>0.804176</td>\n",
       "    </tr>\n",
       "    <tr>\n",
       "      <th>1</th>\n",
       "      <td>-9.754520</td>\n",
       "      <td>6.491701</td>\n",
       "      <td>1.955122</td>\n",
       "      <td>3.445692</td>\n",
       "      <td>-8.906258</td>\n",
       "      <td>10.885443</td>\n",
       "    </tr>\n",
       "    <tr>\n",
       "      <th>2</th>\n",
       "      <td>-0.876786</td>\n",
       "      <td>7.584145</td>\n",
       "      <td>4.199834</td>\n",
       "      <td>2.103910</td>\n",
       "      <td>-5.438354</td>\n",
       "      <td>-8.315972</td>\n",
       "    </tr>\n",
       "    <tr>\n",
       "      <th>3</th>\n",
       "      <td>-10.205186</td>\n",
       "      <td>7.916090</td>\n",
       "      <td>-0.682091</td>\n",
       "      <td>3.531567</td>\n",
       "      <td>-10.076584</td>\n",
       "      <td>10.031524</td>\n",
       "    </tr>\n",
       "    <tr>\n",
       "      <th>4</th>\n",
       "      <td>-1.967735</td>\n",
       "      <td>9.773441</td>\n",
       "      <td>4.063368</td>\n",
       "      <td>-0.617873</td>\n",
       "      <td>-7.425872</td>\n",
       "      <td>-6.488306</td>\n",
       "    </tr>\n",
       "  </tbody>\n",
       "</table>\n",
       "</div>"
      ],
      "text/plain": [
       "           0         1         2         3          4          5\n",
       "0   6.597330 -5.250127 -6.682249 -7.361722  -4.038499   0.804176\n",
       "1  -9.754520  6.491701  1.955122  3.445692  -8.906258  10.885443\n",
       "2  -0.876786  7.584145  4.199834  2.103910  -5.438354  -8.315972\n",
       "3 -10.205186  7.916090 -0.682091  3.531567 -10.076584  10.031524\n",
       "4  -1.967735  9.773441  4.063368 -0.617873  -7.425872  -6.488306"
      ]
     },
     "execution_count": 27,
     "metadata": {},
     "output_type": "execute_result"
    }
   ],
   "source": [
    "# Create Pandas dataframe from the data\n",
    "X = pd.DataFrame(X)\n",
    "X.head()"
   ]
  },
  {
   "cell_type": "markdown",
   "metadata": {
    "id": "8xwjmYl8g4im"
   },
   "source": [
    "We see that the data has 6 features (columns). This is too many for us to visualize in 2-D or 3-D space. We can't see how many clusters there are, so we'll need to use our detective skills to determine this.\n",
    "<br />\n",
    "<br />\n",
    "## Scale the data\n",
    "\n",
    "Since K-means uses distance between observations and centroids as its measure of similarity, it's important to scale your data before modeling, if it's not already scaled. It's important to scale because K-means doesn't know what your unit label is for each variable. Suppose you had data for penguins, and height were measured in meters and weight were measured in grams. Without scaling, significant differences in height would be represented as small numbers, while minor differences in weight would be represented as much larger numbers.\n",
    "\n",
    "To perform scaling, we'll use scikit-learn's [StandardScaler](https://scikit-learn.org/stable/modules/generated/sklearn.preprocessing.StandardScaler.html#). StandardScaler scales each point xᵢ by subtracting the mean value for that feature and dividing by the standard deviation:\n",
    "\n",
    "x-scaled = (xᵢ – mean(x)) / σ\n",
    "\n",
    "This ensures that, after scaling, each feature variable has a mean of 0 and variance/standard deviation of 1. There are a number of scaling techniques available, including `StandardScaler`, `MinMaxScaler`, `Normalizer`, and others, each scaling the data in a particular way. There's no hard rule for determining which method will work best, but with K-means models, using any scaler will almost always result in better results than not scaling at all. \n",
    "\n",
    "You can instantiate StandardScaler and transform your data in a single step by using the `.fit_transform()` method and passing to it your data as an argument.\n",
    "<br />\n",
    "<br />\n",
    "**Tip:** If your computing environment has sufficient resources, it's helpful to keep an unscaled copy of your data to use later. Assign the scaled data to a new variable."
   ]
  },
  {
   "cell_type": "code",
   "execution_count": 28,
   "metadata": {
    "colab": {
     "base_uri": "https://localhost:8080/"
    },
    "executionInfo": {
     "elapsed": 10,
     "status": "ok",
     "timestamp": 1658363130800,
     "user": {
      "displayName": "Matthew Riotto",
      "userId": "15211004813978485634"
     },
     "user_tz": 420
    },
    "id": "otvFYtiu7UJp",
    "outputId": "33e4f4f6-6397-43ea-d947-5bec2afc3fae"
   },
   "outputs": [
    {
     "data": {
      "text/plain": [
       "array([[ 1.26318002, -1.30518704, -1.40025528, -1.56153395,  1.10979237,\n",
       "        -0.02659633],\n",
       "       [-1.27068889,  0.4467899 ,  0.39416532,  0.73504761, -0.85731322,\n",
       "         1.47123687]])"
      ]
     },
     "execution_count": 28,
     "metadata": {},
     "output_type": "execute_result"
    }
   ],
   "source": [
    "# Scale the data\n",
    "X_scaled = StandardScaler().fit_transform(X)\n",
    "X_scaled[:2,:]"
   ]
  },
  {
   "cell_type": "markdown",
   "metadata": {
    "id": "kXMRmiXbpEe4"
   },
   "source": [
    "## Instantiate the model\n",
    "\n",
    "Now that the data is scaled, we can start modeling. Since we don't know how many clusters exist in the data, we'll begin by examining the inertia values for different values of k. \n",
    "\n",
    "One thing to note is that, by default, scikit-learn implements an optimized version of the K-means algorithm, called K-means++. This helps to ensure optimal model convergence by initializing centroids far away from each other. Because we're using K-means++, we will not rerun the model multiple times.\n",
    "\n",
    "We'll begin by instantiating the model. If we want to build a model that clusters the data into three clusters, we'd set the `n_clusters` parameter to 3. We'll also set the `random_state` to an arbitrary number. This is only so others can reproduce your results. If you left this value blank, it's possible others could replicate your code exactly and still get different results due to the random initial placement of centroids."
   ]
  },
  {
   "cell_type": "code",
   "execution_count": 29,
   "metadata": {
    "id": "nyHvTGlHqbSh"
   },
   "outputs": [],
   "source": [
    "# Instantiate model\n",
    "kmeans3 = KMeans(n_clusters=3, random_state=42)"
   ]
  },
  {
   "cell_type": "markdown",
   "metadata": {
    "id": "43xa-j-SsmXW"
   },
   "source": [
    "## Fit the data\n",
    "\n",
    "Now that we've instantiated the model, the next step is to fit it to the data. We do this by using the `.fit()` method and passing to it our scaled data."
   ]
  },
  {
   "cell_type": "code",
   "execution_count": 30,
   "metadata": {
    "colab": {
     "base_uri": "https://localhost:8080/"
    },
    "executionInfo": {
     "elapsed": 203,
     "status": "ok",
     "timestamp": 1658363130996,
     "user": {
      "displayName": "Matthew Riotto",
      "userId": "15211004813978485634"
     },
     "user_tz": 420
    },
    "id": "9bbDGGj2svf9",
    "outputId": "f79c5c2c-7603-4acb-8112-fec59bd35d0a"
   },
   "outputs": [
    {
     "data": {
      "text/html": [
       "<style>#sk-container-id-3 {\n",
       "  /* Definition of color scheme common for light and dark mode */\n",
       "  --sklearn-color-text: black;\n",
       "  --sklearn-color-line: gray;\n",
       "  /* Definition of color scheme for unfitted estimators */\n",
       "  --sklearn-color-unfitted-level-0: #fff5e6;\n",
       "  --sklearn-color-unfitted-level-1: #f6e4d2;\n",
       "  --sklearn-color-unfitted-level-2: #ffe0b3;\n",
       "  --sklearn-color-unfitted-level-3: chocolate;\n",
       "  /* Definition of color scheme for fitted estimators */\n",
       "  --sklearn-color-fitted-level-0: #f0f8ff;\n",
       "  --sklearn-color-fitted-level-1: #d4ebff;\n",
       "  --sklearn-color-fitted-level-2: #b3dbfd;\n",
       "  --sklearn-color-fitted-level-3: cornflowerblue;\n",
       "\n",
       "  /* Specific color for light theme */\n",
       "  --sklearn-color-text-on-default-background: var(--sg-text-color, var(--theme-code-foreground, var(--jp-content-font-color1, black)));\n",
       "  --sklearn-color-background: var(--sg-background-color, var(--theme-background, var(--jp-layout-color0, white)));\n",
       "  --sklearn-color-border-box: var(--sg-text-color, var(--theme-code-foreground, var(--jp-content-font-color1, black)));\n",
       "  --sklearn-color-icon: #696969;\n",
       "\n",
       "  @media (prefers-color-scheme: dark) {\n",
       "    /* Redefinition of color scheme for dark theme */\n",
       "    --sklearn-color-text-on-default-background: var(--sg-text-color, var(--theme-code-foreground, var(--jp-content-font-color1, white)));\n",
       "    --sklearn-color-background: var(--sg-background-color, var(--theme-background, var(--jp-layout-color0, #111)));\n",
       "    --sklearn-color-border-box: var(--sg-text-color, var(--theme-code-foreground, var(--jp-content-font-color1, white)));\n",
       "    --sklearn-color-icon: #878787;\n",
       "  }\n",
       "}\n",
       "\n",
       "#sk-container-id-3 {\n",
       "  color: var(--sklearn-color-text);\n",
       "}\n",
       "\n",
       "#sk-container-id-3 pre {\n",
       "  padding: 0;\n",
       "}\n",
       "\n",
       "#sk-container-id-3 input.sk-hidden--visually {\n",
       "  border: 0;\n",
       "  clip: rect(1px 1px 1px 1px);\n",
       "  clip: rect(1px, 1px, 1px, 1px);\n",
       "  height: 1px;\n",
       "  margin: -1px;\n",
       "  overflow: hidden;\n",
       "  padding: 0;\n",
       "  position: absolute;\n",
       "  width: 1px;\n",
       "}\n",
       "\n",
       "#sk-container-id-3 div.sk-dashed-wrapped {\n",
       "  border: 1px dashed var(--sklearn-color-line);\n",
       "  margin: 0 0.4em 0.5em 0.4em;\n",
       "  box-sizing: border-box;\n",
       "  padding-bottom: 0.4em;\n",
       "  background-color: var(--sklearn-color-background);\n",
       "}\n",
       "\n",
       "#sk-container-id-3 div.sk-container {\n",
       "  /* jupyter's `normalize.less` sets `[hidden] { display: none; }`\n",
       "     but bootstrap.min.css set `[hidden] { display: none !important; }`\n",
       "     so we also need the `!important` here to be able to override the\n",
       "     default hidden behavior on the sphinx rendered scikit-learn.org.\n",
       "     See: https://github.com/scikit-learn/scikit-learn/issues/21755 */\n",
       "  display: inline-block !important;\n",
       "  position: relative;\n",
       "}\n",
       "\n",
       "#sk-container-id-3 div.sk-text-repr-fallback {\n",
       "  display: none;\n",
       "}\n",
       "\n",
       "div.sk-parallel-item,\n",
       "div.sk-serial,\n",
       "div.sk-item {\n",
       "  /* draw centered vertical line to link estimators */\n",
       "  background-image: linear-gradient(var(--sklearn-color-text-on-default-background), var(--sklearn-color-text-on-default-background));\n",
       "  background-size: 2px 100%;\n",
       "  background-repeat: no-repeat;\n",
       "  background-position: center center;\n",
       "}\n",
       "\n",
       "/* Parallel-specific style estimator block */\n",
       "\n",
       "#sk-container-id-3 div.sk-parallel-item::after {\n",
       "  content: \"\";\n",
       "  width: 100%;\n",
       "  border-bottom: 2px solid var(--sklearn-color-text-on-default-background);\n",
       "  flex-grow: 1;\n",
       "}\n",
       "\n",
       "#sk-container-id-3 div.sk-parallel {\n",
       "  display: flex;\n",
       "  align-items: stretch;\n",
       "  justify-content: center;\n",
       "  background-color: var(--sklearn-color-background);\n",
       "  position: relative;\n",
       "}\n",
       "\n",
       "#sk-container-id-3 div.sk-parallel-item {\n",
       "  display: flex;\n",
       "  flex-direction: column;\n",
       "}\n",
       "\n",
       "#sk-container-id-3 div.sk-parallel-item:first-child::after {\n",
       "  align-self: flex-end;\n",
       "  width: 50%;\n",
       "}\n",
       "\n",
       "#sk-container-id-3 div.sk-parallel-item:last-child::after {\n",
       "  align-self: flex-start;\n",
       "  width: 50%;\n",
       "}\n",
       "\n",
       "#sk-container-id-3 div.sk-parallel-item:only-child::after {\n",
       "  width: 0;\n",
       "}\n",
       "\n",
       "/* Serial-specific style estimator block */\n",
       "\n",
       "#sk-container-id-3 div.sk-serial {\n",
       "  display: flex;\n",
       "  flex-direction: column;\n",
       "  align-items: center;\n",
       "  background-color: var(--sklearn-color-background);\n",
       "  padding-right: 1em;\n",
       "  padding-left: 1em;\n",
       "}\n",
       "\n",
       "\n",
       "/* Toggleable style: style used for estimator/Pipeline/ColumnTransformer box that is\n",
       "clickable and can be expanded/collapsed.\n",
       "- Pipeline and ColumnTransformer use this feature and define the default style\n",
       "- Estimators will overwrite some part of the style using the `sk-estimator` class\n",
       "*/\n",
       "\n",
       "/* Pipeline and ColumnTransformer style (default) */\n",
       "\n",
       "#sk-container-id-3 div.sk-toggleable {\n",
       "  /* Default theme specific background. It is overwritten whether we have a\n",
       "  specific estimator or a Pipeline/ColumnTransformer */\n",
       "  background-color: var(--sklearn-color-background);\n",
       "}\n",
       "\n",
       "/* Toggleable label */\n",
       "#sk-container-id-3 label.sk-toggleable__label {\n",
       "  cursor: pointer;\n",
       "  display: block;\n",
       "  width: 100%;\n",
       "  margin-bottom: 0;\n",
       "  padding: 0.5em;\n",
       "  box-sizing: border-box;\n",
       "  text-align: center;\n",
       "}\n",
       "\n",
       "#sk-container-id-3 label.sk-toggleable__label-arrow:before {\n",
       "  /* Arrow on the left of the label */\n",
       "  content: \"▸\";\n",
       "  float: left;\n",
       "  margin-right: 0.25em;\n",
       "  color: var(--sklearn-color-icon);\n",
       "}\n",
       "\n",
       "#sk-container-id-3 label.sk-toggleable__label-arrow:hover:before {\n",
       "  color: var(--sklearn-color-text);\n",
       "}\n",
       "\n",
       "/* Toggleable content - dropdown */\n",
       "\n",
       "#sk-container-id-3 div.sk-toggleable__content {\n",
       "  max-height: 0;\n",
       "  max-width: 0;\n",
       "  overflow: hidden;\n",
       "  text-align: left;\n",
       "  /* unfitted */\n",
       "  background-color: var(--sklearn-color-unfitted-level-0);\n",
       "}\n",
       "\n",
       "#sk-container-id-3 div.sk-toggleable__content.fitted {\n",
       "  /* fitted */\n",
       "  background-color: var(--sklearn-color-fitted-level-0);\n",
       "}\n",
       "\n",
       "#sk-container-id-3 div.sk-toggleable__content pre {\n",
       "  margin: 0.2em;\n",
       "  border-radius: 0.25em;\n",
       "  color: var(--sklearn-color-text);\n",
       "  /* unfitted */\n",
       "  background-color: var(--sklearn-color-unfitted-level-0);\n",
       "}\n",
       "\n",
       "#sk-container-id-3 div.sk-toggleable__content.fitted pre {\n",
       "  /* unfitted */\n",
       "  background-color: var(--sklearn-color-fitted-level-0);\n",
       "}\n",
       "\n",
       "#sk-container-id-3 input.sk-toggleable__control:checked~div.sk-toggleable__content {\n",
       "  /* Expand drop-down */\n",
       "  max-height: 200px;\n",
       "  max-width: 100%;\n",
       "  overflow: auto;\n",
       "}\n",
       "\n",
       "#sk-container-id-3 input.sk-toggleable__control:checked~label.sk-toggleable__label-arrow:before {\n",
       "  content: \"▾\";\n",
       "}\n",
       "\n",
       "/* Pipeline/ColumnTransformer-specific style */\n",
       "\n",
       "#sk-container-id-3 div.sk-label input.sk-toggleable__control:checked~label.sk-toggleable__label {\n",
       "  color: var(--sklearn-color-text);\n",
       "  background-color: var(--sklearn-color-unfitted-level-2);\n",
       "}\n",
       "\n",
       "#sk-container-id-3 div.sk-label.fitted input.sk-toggleable__control:checked~label.sk-toggleable__label {\n",
       "  background-color: var(--sklearn-color-fitted-level-2);\n",
       "}\n",
       "\n",
       "/* Estimator-specific style */\n",
       "\n",
       "/* Colorize estimator box */\n",
       "#sk-container-id-3 div.sk-estimator input.sk-toggleable__control:checked~label.sk-toggleable__label {\n",
       "  /* unfitted */\n",
       "  background-color: var(--sklearn-color-unfitted-level-2);\n",
       "}\n",
       "\n",
       "#sk-container-id-3 div.sk-estimator.fitted input.sk-toggleable__control:checked~label.sk-toggleable__label {\n",
       "  /* fitted */\n",
       "  background-color: var(--sklearn-color-fitted-level-2);\n",
       "}\n",
       "\n",
       "#sk-container-id-3 div.sk-label label.sk-toggleable__label,\n",
       "#sk-container-id-3 div.sk-label label {\n",
       "  /* The background is the default theme color */\n",
       "  color: var(--sklearn-color-text-on-default-background);\n",
       "}\n",
       "\n",
       "/* On hover, darken the color of the background */\n",
       "#sk-container-id-3 div.sk-label:hover label.sk-toggleable__label {\n",
       "  color: var(--sklearn-color-text);\n",
       "  background-color: var(--sklearn-color-unfitted-level-2);\n",
       "}\n",
       "\n",
       "/* Label box, darken color on hover, fitted */\n",
       "#sk-container-id-3 div.sk-label.fitted:hover label.sk-toggleable__label.fitted {\n",
       "  color: var(--sklearn-color-text);\n",
       "  background-color: var(--sklearn-color-fitted-level-2);\n",
       "}\n",
       "\n",
       "/* Estimator label */\n",
       "\n",
       "#sk-container-id-3 div.sk-label label {\n",
       "  font-family: monospace;\n",
       "  font-weight: bold;\n",
       "  display: inline-block;\n",
       "  line-height: 1.2em;\n",
       "}\n",
       "\n",
       "#sk-container-id-3 div.sk-label-container {\n",
       "  text-align: center;\n",
       "}\n",
       "\n",
       "/* Estimator-specific */\n",
       "#sk-container-id-3 div.sk-estimator {\n",
       "  font-family: monospace;\n",
       "  border: 1px dotted var(--sklearn-color-border-box);\n",
       "  border-radius: 0.25em;\n",
       "  box-sizing: border-box;\n",
       "  margin-bottom: 0.5em;\n",
       "  /* unfitted */\n",
       "  background-color: var(--sklearn-color-unfitted-level-0);\n",
       "}\n",
       "\n",
       "#sk-container-id-3 div.sk-estimator.fitted {\n",
       "  /* fitted */\n",
       "  background-color: var(--sklearn-color-fitted-level-0);\n",
       "}\n",
       "\n",
       "/* on hover */\n",
       "#sk-container-id-3 div.sk-estimator:hover {\n",
       "  /* unfitted */\n",
       "  background-color: var(--sklearn-color-unfitted-level-2);\n",
       "}\n",
       "\n",
       "#sk-container-id-3 div.sk-estimator.fitted:hover {\n",
       "  /* fitted */\n",
       "  background-color: var(--sklearn-color-fitted-level-2);\n",
       "}\n",
       "\n",
       "/* Specification for estimator info (e.g. \"i\" and \"?\") */\n",
       "\n",
       "/* Common style for \"i\" and \"?\" */\n",
       "\n",
       ".sk-estimator-doc-link,\n",
       "a:link.sk-estimator-doc-link,\n",
       "a:visited.sk-estimator-doc-link {\n",
       "  float: right;\n",
       "  font-size: smaller;\n",
       "  line-height: 1em;\n",
       "  font-family: monospace;\n",
       "  background-color: var(--sklearn-color-background);\n",
       "  border-radius: 1em;\n",
       "  height: 1em;\n",
       "  width: 1em;\n",
       "  text-decoration: none !important;\n",
       "  margin-left: 1ex;\n",
       "  /* unfitted */\n",
       "  border: var(--sklearn-color-unfitted-level-1) 1pt solid;\n",
       "  color: var(--sklearn-color-unfitted-level-1);\n",
       "}\n",
       "\n",
       ".sk-estimator-doc-link.fitted,\n",
       "a:link.sk-estimator-doc-link.fitted,\n",
       "a:visited.sk-estimator-doc-link.fitted {\n",
       "  /* fitted */\n",
       "  border: var(--sklearn-color-fitted-level-1) 1pt solid;\n",
       "  color: var(--sklearn-color-fitted-level-1);\n",
       "}\n",
       "\n",
       "/* On hover */\n",
       "div.sk-estimator:hover .sk-estimator-doc-link:hover,\n",
       ".sk-estimator-doc-link:hover,\n",
       "div.sk-label-container:hover .sk-estimator-doc-link:hover,\n",
       ".sk-estimator-doc-link:hover {\n",
       "  /* unfitted */\n",
       "  background-color: var(--sklearn-color-unfitted-level-3);\n",
       "  color: var(--sklearn-color-background);\n",
       "  text-decoration: none;\n",
       "}\n",
       "\n",
       "div.sk-estimator.fitted:hover .sk-estimator-doc-link.fitted:hover,\n",
       ".sk-estimator-doc-link.fitted:hover,\n",
       "div.sk-label-container:hover .sk-estimator-doc-link.fitted:hover,\n",
       ".sk-estimator-doc-link.fitted:hover {\n",
       "  /* fitted */\n",
       "  background-color: var(--sklearn-color-fitted-level-3);\n",
       "  color: var(--sklearn-color-background);\n",
       "  text-decoration: none;\n",
       "}\n",
       "\n",
       "/* Span, style for the box shown on hovering the info icon */\n",
       ".sk-estimator-doc-link span {\n",
       "  display: none;\n",
       "  z-index: 9999;\n",
       "  position: relative;\n",
       "  font-weight: normal;\n",
       "  right: .2ex;\n",
       "  padding: .5ex;\n",
       "  margin: .5ex;\n",
       "  width: min-content;\n",
       "  min-width: 20ex;\n",
       "  max-width: 50ex;\n",
       "  color: var(--sklearn-color-text);\n",
       "  box-shadow: 2pt 2pt 4pt #999;\n",
       "  /* unfitted */\n",
       "  background: var(--sklearn-color-unfitted-level-0);\n",
       "  border: .5pt solid var(--sklearn-color-unfitted-level-3);\n",
       "}\n",
       "\n",
       ".sk-estimator-doc-link.fitted span {\n",
       "  /* fitted */\n",
       "  background: var(--sklearn-color-fitted-level-0);\n",
       "  border: var(--sklearn-color-fitted-level-3);\n",
       "}\n",
       "\n",
       ".sk-estimator-doc-link:hover span {\n",
       "  display: block;\n",
       "}\n",
       "\n",
       "/* \"?\"-specific style due to the `<a>` HTML tag */\n",
       "\n",
       "#sk-container-id-3 a.estimator_doc_link {\n",
       "  float: right;\n",
       "  font-size: 1rem;\n",
       "  line-height: 1em;\n",
       "  font-family: monospace;\n",
       "  background-color: var(--sklearn-color-background);\n",
       "  border-radius: 1rem;\n",
       "  height: 1rem;\n",
       "  width: 1rem;\n",
       "  text-decoration: none;\n",
       "  /* unfitted */\n",
       "  color: var(--sklearn-color-unfitted-level-1);\n",
       "  border: var(--sklearn-color-unfitted-level-1) 1pt solid;\n",
       "}\n",
       "\n",
       "#sk-container-id-3 a.estimator_doc_link.fitted {\n",
       "  /* fitted */\n",
       "  border: var(--sklearn-color-fitted-level-1) 1pt solid;\n",
       "  color: var(--sklearn-color-fitted-level-1);\n",
       "}\n",
       "\n",
       "/* On hover */\n",
       "#sk-container-id-3 a.estimator_doc_link:hover {\n",
       "  /* unfitted */\n",
       "  background-color: var(--sklearn-color-unfitted-level-3);\n",
       "  color: var(--sklearn-color-background);\n",
       "  text-decoration: none;\n",
       "}\n",
       "\n",
       "#sk-container-id-3 a.estimator_doc_link.fitted:hover {\n",
       "  /* fitted */\n",
       "  background-color: var(--sklearn-color-fitted-level-3);\n",
       "}\n",
       "</style><div id=\"sk-container-id-3\" class=\"sk-top-container\"><div class=\"sk-text-repr-fallback\"><pre>KMeans(n_clusters=3, random_state=42)</pre><b>In a Jupyter environment, please rerun this cell to show the HTML representation or trust the notebook. <br />On GitHub, the HTML representation is unable to render, please try loading this page with nbviewer.org.</b></div><div class=\"sk-container\" hidden><div class=\"sk-item\"><div class=\"sk-estimator fitted sk-toggleable\"><input class=\"sk-toggleable__control sk-hidden--visually\" id=\"sk-estimator-id-3\" type=\"checkbox\" checked><label for=\"sk-estimator-id-3\" class=\"sk-toggleable__label fitted sk-toggleable__label-arrow fitted\">&nbsp;&nbsp;KMeans<a class=\"sk-estimator-doc-link fitted\" rel=\"noreferrer\" target=\"_blank\" href=\"https://scikit-learn.org/1.5/modules/generated/sklearn.cluster.KMeans.html\">?<span>Documentation for KMeans</span></a><span class=\"sk-estimator-doc-link fitted\">i<span>Fitted</span></span></label><div class=\"sk-toggleable__content fitted\"><pre>KMeans(n_clusters=3, random_state=42)</pre></div> </div></div></div></div>"
      ],
      "text/plain": [
       "KMeans(n_clusters=3, random_state=42)"
      ]
     },
     "execution_count": 30,
     "metadata": {},
     "output_type": "execute_result"
    }
   ],
   "source": [
    "# Fit model to data\n",
    "kmeans3.fit(X_scaled)"
   ]
  },
  {
   "cell_type": "markdown",
   "metadata": {
    "id": "FCdXhS7LvsAB"
   },
   "source": [
    "This returns a model object that has \"learned\" your data. You can now call its different attributes to see inertia, location of centroids, and class labels, among others. See the [K-means documentation](https://scikit-learn.org/stable/modules/generated/sklearn.cluster.KMeans.html#sklearn.cluster.KMeans) for a full list of available attributes.\n",
    "\n",
    "We can get the cluster assignments by using the `.labels_` attribute. Similarly, we can get the inertia by using the `.inertia_` attribute. \n",
    "\n",
    "Let's see what happens when we check the cluster assignments and inertia for this model."
   ]
  },
  {
   "cell_type": "code",
   "execution_count": 31,
   "metadata": {
    "colab": {
     "base_uri": "https://localhost:8080/"
    },
    "executionInfo": {
     "elapsed": 7,
     "status": "ok",
     "timestamp": 1658363130996,
     "user": {
      "displayName": "Matthew Riotto",
      "userId": "15211004813978485634"
     },
     "user_tz": 420
    },
    "id": "ofUJtXkhxSVr",
    "outputId": "1ac31c98-f791-4889-9340-a9dd1ef1cbd1"
   },
   "outputs": [
    {
     "name": "stdout",
     "output_type": "stream",
     "text": [
      "Clusters:  [1 2 0 2 0 0 0 2 2 1 1 2 1 0 2 2 1 1 1 2 2 0 0 1 0 1 0 1 0 0 2 1 1 2 2 1 0\n",
      " 1 1 1 2 1 2 2 1 0 2 0 2 0 1 2 1 2 2 1 2 2 0 1 0 2 2 2 1 0 0 1 1 0 2 2 0 2\n",
      " 2 2 2 1 1 0 1 0 1 1 0 1 2 1 0 2 2 0 1 2 0 0 1 1 0 2 2 0 1 0 0 0 1 0 1 0 1\n",
      " 2 0 0 2 2 2 0 0 2 2 1 1 1 0 2 2 1 0 1 2 1 2 1 2 1 1 2 2 1 0 2 2 1 0 0 2 2\n",
      " 0 0 2 2 0 2 1 0 2 2 0 0 0 0 1 1 2 2 2 0 2 0 1 0 1 0 2 2 1 1 0 0 2 1 0 0 0\n",
      " 1 0 2 1 2 1 2 1 1 1 0 0 2 1 2 0 1 2 2 0 2 2 1 2 1 0 1 0 1 0 1 0 1 2 1 0 2\n",
      " 0 0 2 2 2 1 0 1 0 0 1 2 2 1 1 0 1 1 0 0 1 2 2 1 1 1 0 1 0 0 1 0 2 1 0 0 1\n",
      " 1 0 1 0 0 2 1 0 1 1 0 2 1 1 2 2 1 0 1 1 0 2 1 1 1 2 1 2 0 0 0 0 0 2 1 0 2\n",
      " 0 2 0 1 1 2 0 1 1 1 2 1 1 1 0 1 2 1 2 1 2 2 0 0 0 2 0 2 1 0 1 2 0 2 0 0 0\n",
      " 0 2 2 2 0 1 1 1 2 2 0 0 0 2 1 1 2 0 2 1 0 2 1 2 2 0 1 0 0 1 0 2 2 2 0 1 1\n",
      " 1 1 2 1 0 1 0 2 0 2 2 1 0 0 2 2 1 0 1 1 1 1 2 0 0 2 0 0 2 2 0 2 2 1 1 1 2\n",
      " 1 0 0 1 1 2 2 0 2 1 2 2 0 1 1 2 2 2 0 1 1 2 1 0 0 2 1 1 2 1 0 0 1 0 0 2 0\n",
      " 0 2 2 1 2 1 0 1 2 2 2 0 0 1 2 0 1 1 2 0 1 1 0 1 0 0 1 2 2 2 0 2 1 0 1 1 1\n",
      " 1 2 2 1 0 0 2 0 1 2 1 2 1 2 1 2 0 0 1 0 1 0 0 0 0 1 2 2 0 0 2 1 1 2 2 2 0\n",
      " 2 2 0 1 1 1 1 1 2 2 1 0 2 0 0 1 1 2 0 1 0 0 0 2 1 1 2 2 2 1 1 2 0 2 1 1 0\n",
      " 1 0 2 2 2 1 2 2 2 2 1 0 1 2 1 1 0 0 2 2 1 2 2 0 0 1 0 1 2 2 1 1 1 0 1 1 1\n",
      " 1 0 1 1 1 2 2 0 2 2 0 1 2 2 0 2 0 0 2 2 2 0 0 0 2 1 1 0 0 0 2 0 0 1 2 1 1\n",
      " 1 2 2 1 2 1 1 1 1 0 0 0 0 1 2 1 0 0 2 2 2 0 0 2 2 2 0 2 1 0 1 0 2 0 2 0 2\n",
      " 0 0 1 0 2 0 0 1 1 2 0 1 0 1 1 1 0 2 0 0 2 1 0 0 1 2 1 0 0 2 1 0 1 2 2 2 1\n",
      " 0 2 0 1 1 2 2 2 0 2 1 0 0 2 1 2 0 2 1 0 0 1 1 1 0 1 1 2 0 2 1 1 1 1 2 1 2\n",
      " 2 0 0 2 2 2 1 1 2 1 2 1 2 0 1 1 2 2 2 2 1 0 2 2 2 0 1 0 2 2 0 1 1 2 2 0 1\n",
      " 2 0 1 1 2 0 2 1 1 1 1 0 1 0 2 2 2 2 2 1 1 2 0 2 0 1 0 0 2 0 1 2 1 0 2 2 2\n",
      " 0 0 0 0 0 0 1 1 0 0 0 0 0 2 1 1 0 2 1 1 0 0 0 2 1 2 1 1 2 2 2 0 1 2 2 2 2\n",
      " 2 1 1 0 2 0 1 0 2 2 1 0 1 0 0 0 1 0 2 2 1 2 1 2 1 0 1 2 1 1 0 0 0 0 1 2 2\n",
      " 0 2 1 1 0 0 2 2 2 0 2 1 0 2 0 2 0 0 0 0 0 0 0 1 0 0 1 0 0 2 2 0 0 2 2 1 2\n",
      " 0 0 1 0 0 0 2 0 1 2 1 0 2 1 0 2 0 1 0 1 2 0 1 0 2 1 1 1 1 1 2 0 0 2 1 2 2\n",
      " 1 1 2 0 2 1 1 1 0 1 2 0 1 2 0 0 2 0 0 0 0 2 1 0 0 1 1 2 2 2 2 2 0 2 0 1 1\n",
      " 0]\n",
      "Inertia:  306.9478846038064\n"
     ]
    }
   ],
   "source": [
    "print('Clusters: ', kmeans3.labels_)\n",
    "print('Inertia: ', kmeans3.inertia_)"
   ]
  },
  {
   "cell_type": "markdown",
   "metadata": {
    "id": "GQaVgD-tyAlH"
   },
   "source": [
    "The `.labels_` attribute returns a list of values that is the same length as the training data. Each value corresponds to the number of the cluster to which that point is assigned. Since our K-means model clustered the data into three clusters, the value assigned to each observation will be 0, 1, or 2. (Note that the cluster number itself is arbitrary, and serves only as a label.)  \n",
    "<br/>\n",
    "\n",
    "The `.inertia_` attribute returns the sum of the squared distances of samples from their closest cluster center.\n"
   ]
  },
  {
   "cell_type": "markdown",
   "metadata": {
    "id": "UOhH669mzUzX"
   },
   "source": [
    "## Evaluate inertia\n",
    "\n",
    "This inertia value isn't helpful by itself. We need to compare the inertias of multiple _k_ values. To do this, we'll create a function that fits a K-means model for multiple values of _k_, calculates the inertia for each _k_ value, and appends it to a list."
   ]
  },
  {
   "cell_type": "code",
   "execution_count": 32,
   "metadata": {
    "id": "3P4W-aqo2WzG"
   },
   "outputs": [],
   "source": [
    "# Create a list from 2-10. \n",
    "num_clusters = [i for i in range(2, 11)]\n",
    "\n",
    "def kmeans_inertia(num_clusters, x_vals):\n",
    "    '''\n",
    "    Fits a KMeans model for different values of k.\n",
    "    Calculates an inertia score for each k value.\n",
    "\n",
    "    Args:\n",
    "        num_clusters: (list of ints)  - The different k values to try\n",
    "        x_vals:       (array)         - The training data\n",
    "\n",
    "    Returns: \n",
    "        inertia:      (list)          - A list of inertia scores, one for each \\\n",
    "                                      value of k\n",
    "    '''\n",
    "\n",
    "    inertia = []\n",
    "    for num in num_clusters:\n",
    "        kms = KMeans(n_clusters=num, random_state=42)\n",
    "        kms.fit(x_vals)\n",
    "        inertia.append(kms.inertia_)\n",
    "    \n",
    "    return inertia"
   ]
  },
  {
   "cell_type": "code",
   "execution_count": 33,
   "metadata": {
    "colab": {
     "base_uri": "https://localhost:8080/"
    },
    "executionInfo": {
     "elapsed": 672,
     "status": "ok",
     "timestamp": 1658363131665,
     "user": {
      "displayName": "Matthew Riotto",
      "userId": "15211004813978485634"
     },
     "user_tz": 420
    },
    "id": "WMEBcyOP276O",
    "outputId": "4e8412fa-bd56-41ee-e595-b704022d0ef9"
   },
   "outputs": [
    {
     "data": {
      "text/plain": [
       "[1759.7908215905431,\n",
       " 306.9478846038064,\n",
       " 278.9872239084885,\n",
       " 242.6707586689116,\n",
       " 211.11182377397512,\n",
       " 202.30700110923897,\n",
       " 196.18080546522975,\n",
       " 187.31209855007643,\n",
       " 185.1599294921955]"
      ]
     },
     "execution_count": 33,
     "metadata": {},
     "output_type": "execute_result"
    }
   ],
   "source": [
    "# Calculate inertia for k=2-10\n",
    "inertia = kmeans_inertia(num_clusters, X_scaled)\n",
    "inertia"
   ]
  },
  {
   "cell_type": "markdown",
   "metadata": {
    "id": "N1mfQUq05Eeg"
   },
   "source": [
    "### Elbow plot\n",
    "\n",
    "Now we can plot these values in a simple line graph, with the _k_ values along the x-axis and inertia on the y-axis. This type of plot is called an elbow plot. The \"elbow\" is usually the part of the curve with the sharpest angle, where the reduction in inertia that occurs when a new cluster is added begins to level off. "
   ]
  },
  {
   "cell_type": "code",
   "execution_count": 34,
   "metadata": {
    "colab": {
     "base_uri": "https://localhost:8080/",
     "height": 279
    },
    "executionInfo": {
     "elapsed": 215,
     "status": "ok",
     "timestamp": 1658363131876,
     "user": {
      "displayName": "Matthew Riotto",
      "userId": "15211004813978485634"
     },
     "user_tz": 420
    },
    "id": "jEkYOPl6VKm6",
    "outputId": "68040c2c-296b-4d3a-89a7-17aaf0022131"
   },
   "outputs": [
    {
     "data": {
      "image/png": "[encoded data removed]",
      "text/plain": [
       "<Figure size 640x480 with 1 Axes>"
      ]
     },
     "metadata": {},
     "output_type": "display_data"
    }
   ],
   "source": [
    "# Create an elbow plot\n",
    "plot = sns.lineplot(x=num_clusters, y=inertia)\n",
    "plot.set_xlabel(\"Number of clusters\");\n",
    "plot.set_ylabel(\"Inertia\");"
   ]
  },
  {
   "cell_type": "markdown",
   "metadata": {
    "id": "IGY9GlPn7vht"
   },
   "source": [
    "This plot contains an unambiguous elbow at five clusters. Models with more than five clusters don't seem to reduce inertia much at all. Right now, it seems like a 5-cluster model might be optimal. \n",
    "\n",
    "Let's now check silhouette scores. Hopefully the results will corroborate our findings from the assessment of inertia.\n",
    "\n"
   ]
  },
  {
   "cell_type": "markdown",
   "metadata": {
    "id": "fHjmGFa16PtP"
   },
   "source": [
    "## Evaluate silhouette score\n",
    "\n",
    "Unlike inertia, silhouette score doesn't have its own attribute that can be called on the model object. To get a silhouette score, we have to use the `silhouette_score()` function that we imported from `sklearn.metrics`. You must pass to it two required parameters: your training data and their assigned cluster labels. Let's see what this looks like for the `kmeans3` model we created earlier."
   ]
  },
  {
   "cell_type": "code",
   "execution_count": 35,
   "metadata": {
    "colab": {
     "base_uri": "https://localhost:8080/"
    },
    "executionInfo": {
     "elapsed": 10,
     "status": "ok",
     "timestamp": 1658363131877,
     "user": {
      "displayName": "Matthew Riotto",
      "userId": "15211004813978485634"
     },
     "user_tz": 420
    },
    "id": "pp-3moxU9q4B",
    "outputId": "1086031e-9c29-439c-83d4-66fee9324d9a"
   },
   "outputs": [
    {
     "data": {
      "text/plain": [
       "0.7804420928014503"
      ]
     },
     "execution_count": 35,
     "metadata": {},
     "output_type": "execute_result"
    }
   ],
   "source": [
    "# Get silhouette score for kmeans3 model\n",
    "kmeans3_sil_score = silhouette_score(X_scaled, kmeans3.labels_)\n",
    "kmeans3_sil_score"
   ]
  },
  {
   "cell_type": "markdown",
   "metadata": {
    "id": "Q2OnUouw92Wy"
   },
   "source": [
    "It worked! However, this value isn't very useful if we have nothing to compare it to. Just as we did for inertia, we'll write a function that compares the silhouette score of each value of _k_, from 2 through 10."
   ]
  },
  {
   "cell_type": "code",
   "execution_count": 36,
   "metadata": {
    "id": "cp4FKbxb3R_X"
   },
   "outputs": [],
   "source": [
    "def kmeans_sil(num_clusters, x_vals):\n",
    "    '''\n",
    "    Fits a KMeans model for different values of k.\n",
    "    Calculates a silhouette score for each k value\n",
    "\n",
    "    Args:\n",
    "        num_clusters: (list of ints)  - The different k values to try\n",
    "        x_vals:       (array)         - The training data\n",
    "\n",
    "    Returns: \n",
    "        sil_score:    (list)          - A list of silhouette scores, one for each \\\n",
    "                                      value of k\n",
    "    '''\n",
    "  \n",
    "    sil_score = []\n",
    "    for num in num_clusters:\n",
    "        kms = KMeans(n_clusters=num, random_state=42)\n",
    "        kms.fit(x_vals)\n",
    "        sil_score.append(silhouette_score(x_vals, kms.labels_))\n",
    "    \n",
    "    return sil_score"
   ]
  },
  {
   "cell_type": "code",
   "execution_count": 37,
   "metadata": {
    "colab": {
     "base_uri": "https://localhost:8080/"
    },
    "executionInfo": {
     "elapsed": 1195,
     "status": "ok",
     "timestamp": 1658363133066,
     "user": {
      "displayName": "Matthew Riotto",
      "userId": "15211004813978485634"
     },
     "user_tz": 420
    },
    "id": "8dQentKe3AyO",
    "outputId": "bf32e54b-c08a-42b7-df2c-dace5893fccb"
   },
   "outputs": [
    {
     "data": {
      "text/plain": [
       "[0.6743221634473732,\n",
       " 0.7804420928014503,\n",
       " 0.5994413690492011,\n",
       " 0.44436560801850056,\n",
       " 0.2520967563714427,\n",
       " 0.2188260194731059,\n",
       " 0.22893145113286778,\n",
       " 0.1966193542532658,\n",
       " 0.18874798778285765]"
      ]
     },
     "execution_count": 37,
     "metadata": {},
     "output_type": "execute_result"
    }
   ],
   "source": [
    "# Calculate silhouette scores for k=2-10\n",
    "sil_score = kmeans_sil(num_clusters, X_scaled)\n",
    "sil_score"
   ]
  },
  {
   "cell_type": "markdown",
   "metadata": {
    "id": "GnsUgD8b-He0"
   },
   "source": [
    "We can plot the silhouette score for each value of _k_, just as we did for inertia. However, remember that for silhouette score, greater numbers (closest to 1) are better, so we hope to see at least one clear \"peak\" that is close to 1."
   ]
  },
  {
   "cell_type": "code",
   "execution_count": 38,
   "metadata": {
    "colab": {
     "base_uri": "https://localhost:8080/",
     "height": 279
    },
    "executionInfo": {
     "elapsed": 259,
     "status": "ok",
     "timestamp": 1658363133319,
     "user": {
      "displayName": "Matthew Riotto",
      "userId": "15211004813978485634"
     },
     "user_tz": 420
    },
    "id": "lw-utBNi3a6t",
    "outputId": "87b3ec14-8bff-440e-960b-b83e9a43c94d"
   },
   "outputs": [
    {
     "data": {
      "image/png": "[encoded data removed]",
      "text/plain": [
       "<Figure size 640x480 with 1 Axes>"
      ]
     },
     "metadata": {},
     "output_type": "display_data"
    }
   ],
   "source": [
    "# Create a line plot of silhouette scores \n",
    "plot = sns.lineplot(x=num_clusters, y=sil_score)\n",
    "plot.set_xlabel(\"# of clusters\");\n",
    "plot.set_ylabel(\"Silhouette Score\");"
   ]
  },
  {
   "cell_type": "markdown",
   "metadata": {
    "id": "SY7iZ9k7-e-g"
   },
   "source": [
    "This plot indicates that the silhouette score is closest to 1 when our data is partitioned into five clusters. It confirms what we saw in the inertia analysis, where we noticed an elbow where _k_=5. "
   ]
  },
  {
   "cell_type": "markdown",
   "metadata": {
    "id": "EE2ysOBd_asB"
   },
   "source": [
    "## Conclusion\n",
    "\n",
    "At this point, between our inertia and silhouette score analyses, we can say with a reasonable degree of confidence that it makes the most sense to group our data into five clusters. \n",
    "<br/>  \n",
    "Since we used synthetic data for this activity, we can cheat and check to see how many clusters _actually_ existed in our data. We can do this by calling the `centers` variable, which we created with the random number generator at the beginning of this notebook."
   ]
  },
  {
   "cell_type": "code",
   "execution_count": 39,
   "metadata": {
    "colab": {
     "base_uri": "https://localhost:8080/"
    },
    "executionInfo": {
     "elapsed": 15,
     "status": "ok",
     "timestamp": 1658363133319,
     "user": {
      "displayName": "Matthew Riotto",
      "userId": "15211004813978485634"
     },
     "user_tz": 420
    },
    "id": "t70Q0WEaGpzt",
    "outputId": "416298ec-fc3f-4a41-baaf-1920aff9a7c2"
   },
   "outputs": [
    {
     "data": {
      "text/plain": [
       "3"
      ]
     },
     "execution_count": 39,
     "metadata": {},
     "output_type": "execute_result"
    }
   ],
   "source": [
    "# Verify our findings (only possible when \"correct\" number of clusters exists)\n",
    "centers"
   ]
  },
  {
   "cell_type": "markdown",
   "metadata": {
    "id": "4tyYY16hHDC9"
   },
   "source": [
    "We were right! Just as we predicted, there are indeed five distinct clusters in our data. We were able to deduce this by using inertia and silhouette score!"
   ]
  },
  {
   "cell_type": "markdown",
   "metadata": {
    "id": "q1hCCQY7Baz4"
   },
   "source": [
    "## Further analysis\n",
    "\n",
    "Although we know that five clusters is the best grouping for the data, the work is far from done. At this point, we'll instantiate a new K-means model with `n_clusters=5` and fit it to our data. (Note that if we had saved all the models that we fit above for different values of _k_, we wouldn't need to refit a model now, we could just call that model from earlier. But since it wasn't saved, we must fit another model.)"
   ]
  },
  {
   "cell_type": "code",
   "execution_count": 40,
   "metadata": {
    "colab": {
     "base_uri": "https://localhost:8080/"
    },
    "executionInfo": {
     "elapsed": 12,
     "status": "ok",
     "timestamp": 1658363133320,
     "user": {
      "displayName": "Matthew Riotto",
      "userId": "15211004813978485634"
     },
     "user_tz": 420
    },
    "id": "5KJhzMoq3mqf",
    "outputId": "798c4cc4-5931-4b31-fae0-98e6fcac28c3"
   },
   "outputs": [
    {
     "data": {
      "text/html": [
       "<style>#sk-container-id-4 {\n",
       "  /* Definition of color scheme common for light and dark mode */\n",
       "  --sklearn-color-text: black;\n",
       "  --sklearn-color-line: gray;\n",
       "  /* Definition of color scheme for unfitted estimators */\n",
       "  --sklearn-color-unfitted-level-0: #fff5e6;\n",
       "  --sklearn-color-unfitted-level-1: #f6e4d2;\n",
       "  --sklearn-color-unfitted-level-2: #ffe0b3;\n",
       "  --sklearn-color-unfitted-level-3: chocolate;\n",
       "  /* Definition of color scheme for fitted estimators */\n",
       "  --sklearn-color-fitted-level-0: #f0f8ff;\n",
       "  --sklearn-color-fitted-level-1: #d4ebff;\n",
       "  --sklearn-color-fitted-level-2: #b3dbfd;\n",
       "  --sklearn-color-fitted-level-3: cornflowerblue;\n",
       "\n",
       "  /* Specific color for light theme */\n",
       "  --sklearn-color-text-on-default-background: var(--sg-text-color, var(--theme-code-foreground, var(--jp-content-font-color1, black)));\n",
       "  --sklearn-color-background: var(--sg-background-color, var(--theme-background, var(--jp-layout-color0, white)));\n",
       "  --sklearn-color-border-box: var(--sg-text-color, var(--theme-code-foreground, var(--jp-content-font-color1, black)));\n",
       "  --sklearn-color-icon: #696969;\n",
       "\n",
       "  @media (prefers-color-scheme: dark) {\n",
       "    /* Redefinition of color scheme for dark theme */\n",
       "    --sklearn-color-text-on-default-background: var(--sg-text-color, var(--theme-code-foreground, var(--jp-content-font-color1, white)));\n",
       "    --sklearn-color-background: var(--sg-background-color, var(--theme-background, var(--jp-layout-color0, #111)));\n",
       "    --sklearn-color-border-box: var(--sg-text-color, var(--theme-code-foreground, var(--jp-content-font-color1, white)));\n",
       "    --sklearn-color-icon: #878787;\n",
       "  }\n",
       "}\n",
       "\n",
       "#sk-container-id-4 {\n",
       "  color: var(--sklearn-color-text);\n",
       "}\n",
       "\n",
       "#sk-container-id-4 pre {\n",
       "  padding: 0;\n",
       "}\n",
       "\n",
       "#sk-container-id-4 input.sk-hidden--visually {\n",
       "  border: 0;\n",
       "  clip: rect(1px 1px 1px 1px);\n",
       "  clip: rect(1px, 1px, 1px, 1px);\n",
       "  height: 1px;\n",
       "  margin: -1px;\n",
       "  overflow: hidden;\n",
       "  padding: 0;\n",
       "  position: absolute;\n",
       "  width: 1px;\n",
       "}\n",
       "\n",
       "#sk-container-id-4 div.sk-dashed-wrapped {\n",
       "  border: 1px dashed var(--sklearn-color-line);\n",
       "  margin: 0 0.4em 0.5em 0.4em;\n",
       "  box-sizing: border-box;\n",
       "  padding-bottom: 0.4em;\n",
       "  background-color: var(--sklearn-color-background);\n",
       "}\n",
       "\n",
       "#sk-container-id-4 div.sk-container {\n",
       "  /* jupyter's `normalize.less` sets `[hidden] { display: none; }`\n",
       "     but bootstrap.min.css set `[hidden] { display: none !important; }`\n",
       "     so we also need the `!important` here to be able to override the\n",
       "     default hidden behavior on the sphinx rendered scikit-learn.org.\n",
       "     See: https://github.com/scikit-learn/scikit-learn/issues/21755 */\n",
       "  display: inline-block !important;\n",
       "  position: relative;\n",
       "}\n",
       "\n",
       "#sk-container-id-4 div.sk-text-repr-fallback {\n",
       "  display: none;\n",
       "}\n",
       "\n",
       "div.sk-parallel-item,\n",
       "div.sk-serial,\n",
       "div.sk-item {\n",
       "  /* draw centered vertical line to link estimators */\n",
       "  background-image: linear-gradient(var(--sklearn-color-text-on-default-background), var(--sklearn-color-text-on-default-background));\n",
       "  background-size: 2px 100%;\n",
       "  background-repeat: no-repeat;\n",
       "  background-position: center center;\n",
       "}\n",
       "\n",
       "/* Parallel-specific style estimator block */\n",
       "\n",
       "#sk-container-id-4 div.sk-parallel-item::after {\n",
       "  content: \"\";\n",
       "  width: 100%;\n",
       "  border-bottom: 2px solid var(--sklearn-color-text-on-default-background);\n",
       "  flex-grow: 1;\n",
       "}\n",
       "\n",
       "#sk-container-id-4 div.sk-parallel {\n",
       "  display: flex;\n",
       "  align-items: stretch;\n",
       "  justify-content: center;\n",
       "  background-color: var(--sklearn-color-background);\n",
       "  position: relative;\n",
       "}\n",
       "\n",
       "#sk-container-id-4 div.sk-parallel-item {\n",
       "  display: flex;\n",
       "  flex-direction: column;\n",
       "}\n",
       "\n",
       "#sk-container-id-4 div.sk-parallel-item:first-child::after {\n",
       "  align-self: flex-end;\n",
       "  width: 50%;\n",
       "}\n",
       "\n",
       "#sk-container-id-4 div.sk-parallel-item:last-child::after {\n",
       "  align-self: flex-start;\n",
       "  width: 50%;\n",
       "}\n",
       "\n",
       "#sk-container-id-4 div.sk-parallel-item:only-child::after {\n",
       "  width: 0;\n",
       "}\n",
       "\n",
       "/* Serial-specific style estimator block */\n",
       "\n",
       "#sk-container-id-4 div.sk-serial {\n",
       "  display: flex;\n",
       "  flex-direction: column;\n",
       "  align-items: center;\n",
       "  background-color: var(--sklearn-color-background);\n",
       "  padding-right: 1em;\n",
       "  padding-left: 1em;\n",
       "}\n",
       "\n",
       "\n",
       "/* Toggleable style: style used for estimator/Pipeline/ColumnTransformer box that is\n",
       "clickable and can be expanded/collapsed.\n",
       "- Pipeline and ColumnTransformer use this feature and define the default style\n",
       "- Estimators will overwrite some part of the style using the `sk-estimator` class\n",
       "*/\n",
       "\n",
       "/* Pipeline and ColumnTransformer style (default) */\n",
       "\n",
       "#sk-container-id-4 div.sk-toggleable {\n",
       "  /* Default theme specific background. It is overwritten whether we have a\n",
       "  specific estimator or a Pipeline/ColumnTransformer */\n",
       "  background-color: var(--sklearn-color-background);\n",
       "}\n",
       "\n",
       "/* Toggleable label */\n",
       "#sk-container-id-4 label.sk-toggleable__label {\n",
       "  cursor: pointer;\n",
       "  display: block;\n",
       "  width: 100%;\n",
       "  margin-bottom: 0;\n",
       "  padding: 0.5em;\n",
       "  box-sizing: border-box;\n",
       "  text-align: center;\n",
       "}\n",
       "\n",
       "#sk-container-id-4 label.sk-toggleable__label-arrow:before {\n",
       "  /* Arrow on the left of the label */\n",
       "  content: \"▸\";\n",
       "  float: left;\n",
       "  margin-right: 0.25em;\n",
       "  color: var(--sklearn-color-icon);\n",
       "}\n",
       "\n",
       "#sk-container-id-4 label.sk-toggleable__label-arrow:hover:before {\n",
       "  color: var(--sklearn-color-text);\n",
       "}\n",
       "\n",
       "/* Toggleable content - dropdown */\n",
       "\n",
       "#sk-container-id-4 div.sk-toggleable__content {\n",
       "  max-height: 0;\n",
       "  max-width: 0;\n",
       "  overflow: hidden;\n",
       "  text-align: left;\n",
       "  /* unfitted */\n",
       "  background-color: var(--sklearn-color-unfitted-level-0);\n",
       "}\n",
       "\n",
       "#sk-container-id-4 div.sk-toggleable__content.fitted {\n",
       "  /* fitted */\n",
       "  background-color: var(--sklearn-color-fitted-level-0);\n",
       "}\n",
       "\n",
       "#sk-container-id-4 div.sk-toggleable__content pre {\n",
       "  margin: 0.2em;\n",
       "  border-radius: 0.25em;\n",
       "  color: var(--sklearn-color-text);\n",
       "  /* unfitted */\n",
       "  background-color: var(--sklearn-color-unfitted-level-0);\n",
       "}\n",
       "\n",
       "#sk-container-id-4 div.sk-toggleable__content.fitted pre {\n",
       "  /* unfitted */\n",
       "  background-color: var(--sklearn-color-fitted-level-0);\n",
       "}\n",
       "\n",
       "#sk-container-id-4 input.sk-toggleable__control:checked~div.sk-toggleable__content {\n",
       "  /* Expand drop-down */\n",
       "  max-height: 200px;\n",
       "  max-width: 100%;\n",
       "  overflow: auto;\n",
       "}\n",
       "\n",
       "#sk-container-id-4 input.sk-toggleable__control:checked~label.sk-toggleable__label-arrow:before {\n",
       "  content: \"▾\";\n",
       "}\n",
       "\n",
       "/* Pipeline/ColumnTransformer-specific style */\n",
       "\n",
       "#sk-container-id-4 div.sk-label input.sk-toggleable__control:checked~label.sk-toggleable__label {\n",
       "  color: var(--sklearn-color-text);\n",
       "  background-color: var(--sklearn-color-unfitted-level-2);\n",
       "}\n",
       "\n",
       "#sk-container-id-4 div.sk-label.fitted input.sk-toggleable__control:checked~label.sk-toggleable__label {\n",
       "  background-color: var(--sklearn-color-fitted-level-2);\n",
       "}\n",
       "\n",
       "/* Estimator-specific style */\n",
       "\n",
       "/* Colorize estimator box */\n",
       "#sk-container-id-4 div.sk-estimator input.sk-toggleable__control:checked~label.sk-toggleable__label {\n",
       "  /* unfitted */\n",
       "  background-color: var(--sklearn-color-unfitted-level-2);\n",
       "}\n",
       "\n",
       "#sk-container-id-4 div.sk-estimator.fitted input.sk-toggleable__control:checked~label.sk-toggleable__label {\n",
       "  /* fitted */\n",
       "  background-color: var(--sklearn-color-fitted-level-2);\n",
       "}\n",
       "\n",
       "#sk-container-id-4 div.sk-label label.sk-toggleable__label,\n",
       "#sk-container-id-4 div.sk-label label {\n",
       "  /* The background is the default theme color */\n",
       "  color: var(--sklearn-color-text-on-default-background);\n",
       "}\n",
       "\n",
       "/* On hover, darken the color of the background */\n",
       "#sk-container-id-4 div.sk-label:hover label.sk-toggleable__label {\n",
       "  color: var(--sklearn-color-text);\n",
       "  background-color: var(--sklearn-color-unfitted-level-2);\n",
       "}\n",
       "\n",
       "/* Label box, darken color on hover, fitted */\n",
       "#sk-container-id-4 div.sk-label.fitted:hover label.sk-toggleable__label.fitted {\n",
       "  color: var(--sklearn-color-text);\n",
       "  background-color: var(--sklearn-color-fitted-level-2);\n",
       "}\n",
       "\n",
       "/* Estimator label */\n",
       "\n",
       "#sk-container-id-4 div.sk-label label {\n",
       "  font-family: monospace;\n",
       "  font-weight: bold;\n",
       "  display: inline-block;\n",
       "  line-height: 1.2em;\n",
       "}\n",
       "\n",
       "#sk-container-id-4 div.sk-label-container {\n",
       "  text-align: center;\n",
       "}\n",
       "\n",
       "/* Estimator-specific */\n",
       "#sk-container-id-4 div.sk-estimator {\n",
       "  font-family: monospace;\n",
       "  border: 1px dotted var(--sklearn-color-border-box);\n",
       "  border-radius: 0.25em;\n",
       "  box-sizing: border-box;\n",
       "  margin-bottom: 0.5em;\n",
       "  /* unfitted */\n",
       "  background-color: var(--sklearn-color-unfitted-level-0);\n",
       "}\n",
       "\n",
       "#sk-container-id-4 div.sk-estimator.fitted {\n",
       "  /* fitted */\n",
       "  background-color: var(--sklearn-color-fitted-level-0);\n",
       "}\n",
       "\n",
       "/* on hover */\n",
       "#sk-container-id-4 div.sk-estimator:hover {\n",
       "  /* unfitted */\n",
       "  background-color: var(--sklearn-color-unfitted-level-2);\n",
       "}\n",
       "\n",
       "#sk-container-id-4 div.sk-estimator.fitted:hover {\n",
       "  /* fitted */\n",
       "  background-color: var(--sklearn-color-fitted-level-2);\n",
       "}\n",
       "\n",
       "/* Specification for estimator info (e.g. \"i\" and \"?\") */\n",
       "\n",
       "/* Common style for \"i\" and \"?\" */\n",
       "\n",
       ".sk-estimator-doc-link,\n",
       "a:link.sk-estimator-doc-link,\n",
       "a:visited.sk-estimator-doc-link {\n",
       "  float: right;\n",
       "  font-size: smaller;\n",
       "  line-height: 1em;\n",
       "  font-family: monospace;\n",
       "  background-color: var(--sklearn-color-background);\n",
       "  border-radius: 1em;\n",
       "  height: 1em;\n",
       "  width: 1em;\n",
       "  text-decoration: none !important;\n",
       "  margin-left: 1ex;\n",
       "  /* unfitted */\n",
       "  border: var(--sklearn-color-unfitted-level-1) 1pt solid;\n",
       "  color: var(--sklearn-color-unfitted-level-1);\n",
       "}\n",
       "\n",
       ".sk-estimator-doc-link.fitted,\n",
       "a:link.sk-estimator-doc-link.fitted,\n",
       "a:visited.sk-estimator-doc-link.fitted {\n",
       "  /* fitted */\n",
       "  border: var(--sklearn-color-fitted-level-1) 1pt solid;\n",
       "  color: var(--sklearn-color-fitted-level-1);\n",
       "}\n",
       "\n",
       "/* On hover */\n",
       "div.sk-estimator:hover .sk-estimator-doc-link:hover,\n",
       ".sk-estimator-doc-link:hover,\n",
       "div.sk-label-container:hover .sk-estimator-doc-link:hover,\n",
       ".sk-estimator-doc-link:hover {\n",
       "  /* unfitted */\n",
       "  background-color: var(--sklearn-color-unfitted-level-3);\n",
       "  color: var(--sklearn-color-background);\n",
       "  text-decoration: none;\n",
       "}\n",
       "\n",
       "div.sk-estimator.fitted:hover .sk-estimator-doc-link.fitted:hover,\n",
       ".sk-estimator-doc-link.fitted:hover,\n",
       "div.sk-label-container:hover .sk-estimator-doc-link.fitted:hover,\n",
       ".sk-estimator-doc-link.fitted:hover {\n",
       "  /* fitted */\n",
       "  background-color: var(--sklearn-color-fitted-level-3);\n",
       "  color: var(--sklearn-color-background);\n",
       "  text-decoration: none;\n",
       "}\n",
       "\n",
       "/* Span, style for the box shown on hovering the info icon */\n",
       ".sk-estimator-doc-link span {\n",
       "  display: none;\n",
       "  z-index: 9999;\n",
       "  position: relative;\n",
       "  font-weight: normal;\n",
       "  right: .2ex;\n",
       "  padding: .5ex;\n",
       "  margin: .5ex;\n",
       "  width: min-content;\n",
       "  min-width: 20ex;\n",
       "  max-width: 50ex;\n",
       "  color: var(--sklearn-color-text);\n",
       "  box-shadow: 2pt 2pt 4pt #999;\n",
       "  /* unfitted */\n",
       "  background: var(--sklearn-color-unfitted-level-0);\n",
       "  border: .5pt solid var(--sklearn-color-unfitted-level-3);\n",
       "}\n",
       "\n",
       ".sk-estimator-doc-link.fitted span {\n",
       "  /* fitted */\n",
       "  background: var(--sklearn-color-fitted-level-0);\n",
       "  border: var(--sklearn-color-fitted-level-3);\n",
       "}\n",
       "\n",
       ".sk-estimator-doc-link:hover span {\n",
       "  display: block;\n",
       "}\n",
       "\n",
       "/* \"?\"-specific style due to the `<a>` HTML tag */\n",
       "\n",
       "#sk-container-id-4 a.estimator_doc_link {\n",
       "  float: right;\n",
       "  font-size: 1rem;\n",
       "  line-height: 1em;\n",
       "  font-family: monospace;\n",
       "  background-color: var(--sklearn-color-background);\n",
       "  border-radius: 1rem;\n",
       "  height: 1rem;\n",
       "  width: 1rem;\n",
       "  text-decoration: none;\n",
       "  /* unfitted */\n",
       "  color: var(--sklearn-color-unfitted-level-1);\n",
       "  border: var(--sklearn-color-unfitted-level-1) 1pt solid;\n",
       "}\n",
       "\n",
       "#sk-container-id-4 a.estimator_doc_link.fitted {\n",
       "  /* fitted */\n",
       "  border: var(--sklearn-color-fitted-level-1) 1pt solid;\n",
       "  color: var(--sklearn-color-fitted-level-1);\n",
       "}\n",
       "\n",
       "/* On hover */\n",
       "#sk-container-id-4 a.estimator_doc_link:hover {\n",
       "  /* unfitted */\n",
       "  background-color: var(--sklearn-color-unfitted-level-3);\n",
       "  color: var(--sklearn-color-background);\n",
       "  text-decoration: none;\n",
       "}\n",
       "\n",
       "#sk-container-id-4 a.estimator_doc_link.fitted:hover {\n",
       "  /* fitted */\n",
       "  background-color: var(--sklearn-color-fitted-level-3);\n",
       "}\n",
       "</style><div id=\"sk-container-id-4\" class=\"sk-top-container\"><div class=\"sk-text-repr-fallback\"><pre>KMeans(n_clusters=5, random_state=42)</pre><b>In a Jupyter environment, please rerun this cell to show the HTML representation or trust the notebook. <br />On GitHub, the HTML representation is unable to render, please try loading this page with nbviewer.org.</b></div><div class=\"sk-container\" hidden><div class=\"sk-item\"><div class=\"sk-estimator fitted sk-toggleable\"><input class=\"sk-toggleable__control sk-hidden--visually\" id=\"sk-estimator-id-4\" type=\"checkbox\" checked><label for=\"sk-estimator-id-4\" class=\"sk-toggleable__label fitted sk-toggleable__label-arrow fitted\">&nbsp;&nbsp;KMeans<a class=\"sk-estimator-doc-link fitted\" rel=\"noreferrer\" target=\"_blank\" href=\"https://scikit-learn.org/1.5/modules/generated/sklearn.cluster.KMeans.html\">?<span>Documentation for KMeans</span></a><span class=\"sk-estimator-doc-link fitted\">i<span>Fitted</span></span></label><div class=\"sk-toggleable__content fitted\"><pre>KMeans(n_clusters=5, random_state=42)</pre></div> </div></div></div></div>"
      ],
      "text/plain": [
       "KMeans(n_clusters=5, random_state=42)"
      ]
     },
     "execution_count": 40,
     "metadata": {},
     "output_type": "execute_result"
    }
   ],
   "source": [
    "# Fit a 5-cluster model to the data\n",
    "kmeans5 = KMeans(n_clusters=5, random_state=42)\n",
    "kmeans5.fit(X_scaled)"
   ]
  },
  {
   "cell_type": "code",
   "execution_count": 41,
   "metadata": {
    "colab": {
     "base_uri": "https://localhost:8080/"
    },
    "executionInfo": {
     "elapsed": 209,
     "status": "ok",
     "timestamp": 1658363133521,
     "user": {
      "displayName": "Matthew Riotto",
      "userId": "15211004813978485634"
     },
     "user_tz": 420
    },
    "id": "Q4rGFwdB99op",
    "outputId": "2e41ac95-3f76-4ad9-c451-7e561ce8d1bd"
   },
   "outputs": [
    {
     "name": "stdout",
     "output_type": "stream",
     "text": [
      "[1 4 3 2 0]\n",
      "Unique labels: [0 1 2 3 4]\n"
     ]
    }
   ],
   "source": [
    "print(kmeans5.labels_[:5])\n",
    "print('Unique labels:', np.unique(kmeans5.labels_))"
   ]
  },
  {
   "cell_type": "markdown",
   "metadata": {
    "id": "JfHxc3mCC-p3"
   },
   "source": [
    "Now that we have our labels, it's important to understand what they mean and decide whether this clustering makes sense for our use case. Here's where it helps to keep our unscaled data from the beginning. We can assign a new column to the original _unscaled_ dataframe with the cluster assignment from the final K-means model."
   ]
  },
  {
   "cell_type": "code",
   "execution_count": 42,
   "metadata": {
    "colab": {
     "base_uri": "https://localhost:8080/",
     "height": 206
    },
    "executionInfo": {
     "elapsed": 18,
     "status": "ok",
     "timestamp": 1658363133521,
     "user": {
      "displayName": "Matthew Riotto",
      "userId": "15211004813978485634"
     },
     "user_tz": 420
    },
    "id": "8fkhC2Fc-Au8",
    "outputId": "ccc8aadf-811a-48e9-f463-3b2a93c3ff91"
   },
   "outputs": [
    {
     "data": {
      "text/html": [
       "<div>\n",
       "<style scoped>\n",
       "    .dataframe tbody tr th:only-of-type {\n",
       "        vertical-align: middle;\n",
       "    }\n",
       "\n",
       "    .dataframe tbody tr th {\n",
       "        vertical-align: top;\n",
       "    }\n",
       "\n",
       "    .dataframe thead th {\n",
       "        text-align: right;\n",
       "    }\n",
       "</style>\n",
       "<table border=\"1\" class=\"dataframe\">\n",
       "  <thead>\n",
       "    <tr style=\"text-align: right;\">\n",
       "      <th></th>\n",
       "      <th>0</th>\n",
       "      <th>1</th>\n",
       "      <th>2</th>\n",
       "      <th>3</th>\n",
       "      <th>4</th>\n",
       "      <th>5</th>\n",
       "      <th>cluster</th>\n",
       "    </tr>\n",
       "  </thead>\n",
       "  <tbody>\n",
       "    <tr>\n",
       "      <th>0</th>\n",
       "      <td>6.597330</td>\n",
       "      <td>-5.250127</td>\n",
       "      <td>-6.682249</td>\n",
       "      <td>-7.361722</td>\n",
       "      <td>-4.038499</td>\n",
       "      <td>0.804176</td>\n",
       "      <td>1</td>\n",
       "    </tr>\n",
       "    <tr>\n",
       "      <th>1</th>\n",
       "      <td>-9.754520</td>\n",
       "      <td>6.491701</td>\n",
       "      <td>1.955122</td>\n",
       "      <td>3.445692</td>\n",
       "      <td>-8.906258</td>\n",
       "      <td>10.885443</td>\n",
       "      <td>4</td>\n",
       "    </tr>\n",
       "    <tr>\n",
       "      <th>2</th>\n",
       "      <td>-0.876786</td>\n",
       "      <td>7.584145</td>\n",
       "      <td>4.199834</td>\n",
       "      <td>2.103910</td>\n",
       "      <td>-5.438354</td>\n",
       "      <td>-8.315972</td>\n",
       "      <td>3</td>\n",
       "    </tr>\n",
       "    <tr>\n",
       "      <th>3</th>\n",
       "      <td>-10.205186</td>\n",
       "      <td>7.916090</td>\n",
       "      <td>-0.682091</td>\n",
       "      <td>3.531567</td>\n",
       "      <td>-10.076584</td>\n",
       "      <td>10.031524</td>\n",
       "      <td>2</td>\n",
       "    </tr>\n",
       "    <tr>\n",
       "      <th>4</th>\n",
       "      <td>-1.967735</td>\n",
       "      <td>9.773441</td>\n",
       "      <td>4.063368</td>\n",
       "      <td>-0.617873</td>\n",
       "      <td>-7.425872</td>\n",
       "      <td>-6.488306</td>\n",
       "      <td>0</td>\n",
       "    </tr>\n",
       "  </tbody>\n",
       "</table>\n",
       "</div>"
      ],
      "text/plain": [
       "           0         1         2         3          4          5  cluster\n",
       "0   6.597330 -5.250127 -6.682249 -7.361722  -4.038499   0.804176        1\n",
       "1  -9.754520  6.491701  1.955122  3.445692  -8.906258  10.885443        4\n",
       "2  -0.876786  7.584145  4.199834  2.103910  -5.438354  -8.315972        3\n",
       "3 -10.205186  7.916090 -0.682091  3.531567 -10.076584  10.031524        2\n",
       "4  -1.967735  9.773441  4.063368 -0.617873  -7.425872  -6.488306        0"
      ]
     },
     "execution_count": 42,
     "metadata": {},
     "output_type": "execute_result"
    }
   ],
   "source": [
    "# Create new column that indicates cluster assignment in original dataframe \n",
    "X['cluster'] = kmeans5.labels_\n",
    "X.head()"
   ]
  },
  {
   "cell_type": "markdown",
   "metadata": {
    "id": "mvTm3vExIWLE"
   },
   "source": [
    "Now, we can perform analyses on the different clusters to see what makes them different from one another. The reason we'd look at cluster assignments with the unscaled data is because it's easier to relate to the unit measures. This is often a useful technique for analyzing your data, but it may also make sense to look at your cluster assignments on the scaled data, depending on your use case.  \n",
    "\n",
    "Note that in many cases, it's not always clear what differentiates one cluster from another, and it takes a lot of work to determine whether or not it makes sense to cluster your data a given way. This is where expertise and domain knowledge are very valuable.\n",
    "<br/>  \n",
    "Congratulations! You now know about two very important tools to help you evaluate your K-means models, and you know how to implement them in scikit-learn. Soon, you'll apply these skills to real-world data. As always, feel free to refer back to this notebook as you continue learning."
   ]
  },
  {
   "cell_type": "markdown",
   "metadata": {
    "id": "AmQHPJ4ZDonV"
   },
   "source": [
    "# Bonus content"
   ]
  },
  {
   "cell_type": "markdown",
   "metadata": {
    "id": "HChl_ld4Rvwo"
   },
   "source": [
    "## Predicting on new data\n",
    "\n",
    "This is not applicable to all clustering tasks, but it's now possible to take in new data and predict a cluster assignment using our final model.\n",
    "\n",
    "To demonstrate this, we'll need a new observation, one that was not contained in our original data. We can create this with the random number generator that we used at the beginning of the notebook. "
   ]
  },
  {
   "cell_type": "code",
   "execution_count": 43,
   "metadata": {
    "colab": {
     "base_uri": "https://localhost:8080/"
    },
    "executionInfo": {
     "elapsed": 15,
     "status": "ok",
     "timestamp": 1658363133522,
     "user": {
      "displayName": "Matthew Riotto",
      "userId": "15211004813978485634"
     },
     "user_tz": 420
    },
    "id": "OdZFPch0-vZe",
    "outputId": "1e1db6cf-ee67-48c6-eaf7-72410203cada"
   },
   "outputs": [
    {
     "data": {
      "text/plain": [
       "array([[-1.2224312 ,  7.1719584 ,  3.94736058, -8.11645304,  9.51244703,\n",
       "         5.22279404]])"
      ]
     },
     "execution_count": 43,
     "metadata": {},
     "output_type": "execute_result"
    }
   ],
   "source": [
    "# Create a new observation (for demonstration)\n",
    "new_observation = rng.uniform(low=-10, high=10, size=6).reshape(1, -1)\n",
    "new_observation"
   ]
  },
  {
   "cell_type": "markdown",
   "metadata": {
    "id": "zmJvLPrlJdNi"
   },
   "source": [
    "Just as before, we must scale this new data the same way we did earlier. This means that we need to subtract the mean _of the training data_ and divide by the standard deviation _of the training data_. If you forgot to scale here you'd get invalid results, because your model would be trained on scaled data while the new data going into it would be unscaled.\n",
    "\n",
    "Here, we must reinstantiate a scaler and fit it to the original data, because we didn't save the scaler object itself when we performed scaling above. We fit and transformed the data in a single line of code, without saving the fit scaler object. \n",
    "\n",
    "Above, if instead of:  \n",
    "`X_scaled = StandardScaler().fit_transform(X)`  \n",
    "\n",
    "we had written:  \n",
    "`scaler = StandardScaler()fit.(X)`  \n",
    "`X_scaled = scaler.transform(X)`\n",
    "\n",
    "then we could have reused `scaler` in this next step without having to assign it."
   ]
  },
  {
   "cell_type": "code",
   "execution_count": 44,
   "metadata": {
    "colab": {
     "base_uri": "https://localhost:8080/"
    },
    "executionInfo": {
     "elapsed": 238,
     "status": "ok",
     "timestamp": 1658363644579,
     "user": {
      "displayName": "Matthew Riotto",
      "userId": "15211004813978485634"
     },
     "user_tz": 420
    },
    "id": "w1UohdL3JseK",
    "outputId": "0ad4474e-8e5e-45fa-85bf-e25426843b0a"
   },
   "outputs": [
    {
     "data": {
      "text/plain": [
       "array([[ 0.05143639,  0.54828992,  0.80805446, -1.72191481,  6.58585289,\n",
       "         0.62990375]])"
      ]
     },
     "execution_count": 44,
     "metadata": {},
     "output_type": "execute_result"
    }
   ],
   "source": [
    "# Instantiate the scaler and fit it to the original X data\n",
    "scaler = StandardScaler().fit(X.iloc[:,:-1])\n",
    "\n",
    "# Apply the scaler to the new observation\n",
    "new_observation_scaled = scaler.transform(new_observation)\n",
    "new_observation_scaled"
   ]
  },
  {
   "cell_type": "markdown",
   "metadata": {
    "id": "O3nWQuLnE0M5"
   },
   "source": [
    "We can use the `.predict()` method of our `kmeans5` model to predict a cluster assignment by passing to it the new observation. In this case, we only have a single observation, but it's also possible to pass an array of new data as an argument, and it would return an array of cluster predictions."
   ]
  },
  {
   "cell_type": "code",
   "execution_count": 45,
   "metadata": {
    "colab": {
     "base_uri": "https://localhost:8080/"
    },
    "executionInfo": {
     "elapsed": 4,
     "status": "ok",
     "timestamp": 1658363665896,
     "user": {
      "displayName": "Matthew Riotto",
      "userId": "15211004813978485634"
     },
     "user_tz": 420
    },
    "id": "WiXkspBDZqgm",
    "outputId": "ae4c461e-630a-488e-ec8a-c1666d21f97d"
   },
   "outputs": [
    {
     "data": {
      "text/plain": [
       "array([1], dtype=int32)"
      ]
     },
     "execution_count": 45,
     "metadata": {},
     "output_type": "execute_result"
    }
   ],
   "source": [
    "# Predict cluster assignment of new_observation\n",
    "new_prediction = kmeans5.predict(new_observation_scaled)\n",
    "new_prediction"
   ]
  },
  {
   "cell_type": "markdown",
   "metadata": {
    "id": "8Y9pnOGiFH44"
   },
   "source": [
    "The model has assigned this new observation to cluster 4. "
   ]
  },
  {
   "cell_type": "markdown",
   "metadata": {
    "id": "6C6i0R6eTOmQ"
   },
   "source": [
    "## Calculating the distance to each centroid\n",
    "\n",
    "The KMeans model also lets us access the distances of observations from _each_ centroid. For new data, we can do this using the `.transform_` method of the fit model object."
   ]
  },
  {
   "cell_type": "code",
   "execution_count": 46,
   "metadata": {
    "colab": {
     "base_uri": "https://localhost:8080/"
    },
    "executionInfo": {
     "elapsed": 226,
     "status": "ok",
     "timestamp": 1658363684157,
     "user": {
      "displayName": "Matthew Riotto",
      "userId": "15211004813978485634"
     },
     "user_tz": 420
    },
    "id": "JSqttsaLLTAF",
    "outputId": "79b0e6fd-74ca-46ba-d1f9-e31b9ce6da9e"
   },
   "outputs": [
    {
     "data": {
      "text/plain": [
       "array([[7.42829709, 6.35257138, 8.5944427 , 6.90143435, 7.97859143]])"
      ]
     },
     "execution_count": 46,
     "metadata": {},
     "output_type": "execute_result"
    }
   ],
   "source": [
    "# Calculate distances between new data and each centroid\n",
    "distances = kmeans5.transform(new_observation_scaled)\n",
    "distances"
   ]
  },
  {
   "cell_type": "markdown",
   "metadata": {
    "id": "VlwkszCwPtNJ"
   },
   "source": [
    "Notice that the `.transform_` method returns an array. In this case, we gave the model a single new data point, and it returned an array of five numbers (because our model has five clusters). Each value in the array represents the distance between `new_observation_scaled` and the centroid of the cluster at that index. \n",
    "\n",
    "So, the distance between `new_observation_scaled` and the centroids of:\n",
    "\n",
    "Cluster 0 = 5.12  \n",
    "Cluster 1 = 4.55  \n",
    "Cluster 2 = 4.15  \n",
    "Cluster 3 = 5.96  \n",
    "Cluster 4 = 3.47  \n",
    "\n",
    "The shortest distance is 3.47—between `new_observation_scaled` and cluster 4's centroid. This is why the point was assigned to cluster 4 when we used the `.predict()` method above.\n",
    "\n",
    "\n",
    "\n"
   ]
  },
  {
   "cell_type": "markdown",
   "metadata": {
    "id": "agxIcSgFTjnd"
   },
   "source": [
    "## Why is this useful?\n",
    "\n",
    "One situation for which being able to assign new points to clusters is useful is when you have a deployed model that was trained on huge amounts of data, and it must process new data as it comes in on a case-by-case basis. For example, suppose you have a marketing program that sends out different promotional emails to different customers, depending on their engagement patterns with your brand. When you get a new customer, you could use a clustering model to assign them to an appropriate marketing campaign, so they see promotions that are most appropriate for them.\n",
    "\n",
    "Also, both the cluster predictions and the distance measurements to centroids can be used as new features in supervised learning models. You can take the training data of a supervised learning problem and cluster it, then use either the cluster assignments or the distance matrices as engineered predictive features to improve the predictive power of a supervised learning model. "
   ]
  }
 ],
 "metadata": {
  "colab": {
   "provenance": [
    {
     "file_id": "1poKNC2ihhvkRrW3BETXV2R0MEzqe8txG",
     "timestamp": 1664307725196
    }
   ]
  },
  "kernelspec": {
   "display_name": "base",
   "language": "python",
   "name": "python3"
  },
  "language_info": {
   "codemirror_mode": {
    "name": "ipython",
    "version": 3
   },
   "file_extension": ".py",
   "mimetype": "text/x-python",
   "name": "python",
   "nbconvert_exporter": "python",
   "pygments_lexer": "ipython3",
   "version": "3.12.7"
  }
 },
 "nbformat": 4,
 "nbformat_minor": 1
}
